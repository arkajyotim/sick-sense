{
  "nbformat": 4,
  "nbformat_minor": 0,
  "metadata": {
    "colab": {
      "provenance": [],
      "include_colab_link": true
    },
    "kernelspec": {
      "name": "python3",
      "display_name": "Python 3"
    },
    "language_info": {
      "name": "python"
    }
  },
  "cells": [
    {
      "cell_type": "markdown",
      "metadata": {
        "id": "view-in-github",
        "colab_type": "text"
      },
      "source": [
        "<a href=\"https://colab.research.google.com/github/swastik-bose007/Disease-Prediction-website-ML-project/blob/main/Disease_prediction_ML_model/SVM_Classifier/Support_Vector_Machine_Classifier.ipynb\" target=\"_parent\"><img src=\"https://colab.research.google.com/assets/colab-badge.svg\" alt=\"Open In Colab\"/></a>"
      ]
    },
    {
      "cell_type": "markdown",
      "source": [
        "# Diease prediction using Gaussian Naive Bayes Classifier algorithm\n",
        "\n",
        "***This is a .ipynb file where we've implemented Gaussian Naive Bayes Classifier algo to predict the disease based on sysmtomps from the datasets***\n",
        "\n",
        "---\n",
        "\n"
      ],
      "metadata": {
        "id": "Kww_bInktOot"
      }
    },
    {
      "cell_type": "code",
      "execution_count": null,
      "metadata": {
        "id": "AaBm3sr2tHkO"
      },
      "outputs": [],
      "source": []
    }
  ]
}