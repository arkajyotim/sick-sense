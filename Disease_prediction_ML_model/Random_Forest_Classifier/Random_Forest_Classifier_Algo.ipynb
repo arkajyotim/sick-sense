{
  "nbformat": 4,
  "nbformat_minor": 0,
  "metadata": {
    "colab": {
      "provenance": [],
      "collapsed_sections": [],
      "include_colab_link": true
    },
    "kernelspec": {
      "name": "python3",
      "display_name": "Python 3"
    },
    "language_info": {
      "name": "python"
    }
  },
  "cells": [
    {
      "cell_type": "markdown",
      "metadata": {
        "id": "view-in-github",
        "colab_type": "text"
      },
      "source": [
        "<a href=\"https://colab.research.google.com/github/swastik-bose007/Disease-Prediction-website-ML-project/blob/main/Disease_prediction_ML_model/Random_Forest_Classifier/Random_Forest_Classifier_Algo.ipynb\" target=\"_parent\"><img src=\"https://colab.research.google.com/assets/colab-badge.svg\" alt=\"Open In Colab\"/></a>"
      ]
    },
    {
      "cell_type": "markdown",
      "source": [
        "# Diease prediction using RANDOM FOREST CLASSIFIER algorithm\n",
        "\n",
        "***This is a .ipynb file where we've implemented RANDOM FOREST CLASSIFIER algo to predict the disease based on sysmtomps from the datasets***\n",
        "\n",
        "---\n",
        "\n"
      ],
      "metadata": {
        "id": "O940mGxyrieH"
      }
    },
    {
      "cell_type": "code",
      "execution_count": null,
      "metadata": {
        "id": "BPfEdAzKp98T"
      },
      "outputs": [],
      "source": []
    }
  ]
}